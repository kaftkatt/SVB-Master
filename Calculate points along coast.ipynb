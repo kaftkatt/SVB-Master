{
 "cells": [
  {
   "cell_type": "markdown",
   "metadata": {},
   "source": [
    "# Creating arrays along the coast"
   ]
  },
  {
   "cell_type": "code",
   "execution_count": 1,
   "metadata": {},
   "outputs": [],
   "source": [
    "from xmitgcm import open_mdsdataset\n",
    "from MITgcmutils import rdmds\n",
    "from MITgcmutils import mds\n",
    "from MITgcmutils import diagnostics\n",
    "import numpy as np\n",
    "import sys\n",
    "sys.ps1 = 'SOMETHING'\n",
    "import matplotlib.pyplot as plt\n",
    "import matplotlib.dates as dat\n",
    "from matplotlib import cm\n",
    "import cmocean\n",
    "import xarray as xr\n",
    "from math import radians, cos, sin, asin, sqrt\n",
    "import netCDF4 as nc\n",
    "import warnings\n",
    "import pylab as pl\n",
    "from time import sleep\n",
    "warnings.filterwarnings(\"ignore\")\n"
   ]
  },
  {
   "cell_type": "markdown",
   "metadata": {},
   "source": [
    "## Doing the picking out "
   ]
  },
  {
   "cell_type": "code",
   "execution_count": 2,
   "metadata": {},
   "outputs": [],
   "source": [
    "def findlonlat(hFacCuse,d,var):\n",
    "\n",
    "    nx = 512\n",
    "    ny = 612\n",
    "    ind30=170+50 #30° N\n",
    "    indlon = 50 # Lon of land at N boundary\n",
    "\n",
    "    lon_inds_off = np.argmax(np.squeeze(hFacCuse[d,:,::-1]), axis=1)\n",
    "\n",
    "\n",
    "    lon_inds = np.ones_like(lon_inds_off[ind30:])*nx - lon_inds_off[ind30:]\n",
    "    lat_inds = np.ones_like(lon_inds)*ind30 + np.arange(len(lon_inds))\n",
    "\n",
    "    lat_inds_off = np.argmax(np.squeeze(hFacCuse[d,::-1,:]), axis=0)\n",
    "\n",
    "\n",
    "\n",
    "    lat_inds_2 = np.ones_like(lat_inds_off[indlon:])*ny - lat_inds_off[indlon:]\n",
    "    lon_inds_2 = np.ones_like(lat_inds)*indlon + np.arange(len(lat_inds))\n",
    "\n",
    "    p=0\n",
    "\n",
    "    k=np.ones_like(lon_inds)\n",
    "    l=np.ones_like(lat_inds)\n",
    "\n",
    "    for i in np.arange(len(lon_inds_2)):\n",
    "        if lon_inds_2[i] not in lon_inds:\n",
    "            p=p+1\n",
    "            k[p]=lon_inds_2[i]\n",
    "            l[p]=lat_inds_2[i]\n",
    "        \n",
    "    k=k[k!=1]\n",
    "    l=l[l!=1]\n",
    "    \n",
    "    # Fill the holes\n",
    "    holearray=[]\n",
    "    for i in np.arange(len(l)):\n",
    "        if l[i] not in holearray:\n",
    "            indexpts=np.where(lat_inds==l[i])\n",
    "            indexs=np.where(l==lat_inds[indexpts[0]])\n",
    "            lon_inds=np.insert(lon_inds,indexpts[0],k[indexs])\n",
    "            lat_inds=np.insert(lat_inds,indexpts[0],l[indexs])\n",
    "            holearray.append(l[i])\n",
    "    \n",
    "    #Organize where the values are in the wrong order\n",
    "    if var==1:\n",
    "        lon_lat=np.zeros((2,len(lon_inds[332:436])))\n",
    "        lon_lat[0,:]=lat_inds[332:436]\n",
    "        lon_lat[1,:]=lon_inds[332:436]\n",
    "\n",
    "        inds=lon_lat[1, :].argsort()\n",
    "        indices=np.flip(inds)\n",
    "\n",
    "        latis=lon_lat[0,indices]\n",
    "        lonis=lon_lat[1,indices]\n",
    "\n",
    "        lat_inds[332:436]=latis\n",
    "        lon_inds[332:436]=lonis\n",
    "\n",
    "    print(\"Done\")\n",
    "    \n",
    "    return(lat_inds, lon_inds)"
   ]
  },
  {
   "cell_type": "markdown",
   "metadata": {},
   "source": [
    "######   Calculate the great circle distance in kilometers between two points on the earth (specified in decimal degrees)"
   ]
  },
  {
   "cell_type": "code",
   "execution_count": 3,
   "metadata": {},
   "outputs": [],
   "source": [
    "def haversine(lon1, lat1, lon2, lat2):\n",
    "\n",
    "    # convert decimal degrees to radians \n",
    "    lon1, lat1, lon2, lat2 = map(radians, [lon1, lat1, lon2, lat2])\n",
    "\n",
    "    # haversine formula \n",
    "    dlon = lon2 - lon1 \n",
    "    dlat = lat2 - lat1 \n",
    "    a = sin(dlat/2)**2 + cos(lat1) * cos(lat2) * sin(dlon/2)**2\n",
    "    c = 2 * asin(sqrt(a)) \n",
    "    r = 6371 # Radius of earth in kilometers. Use 3956 for miles. Determines return value units.\n",
    "    return c * r"
   ]
  },
  {
   "cell_type": "code",
   "execution_count": 7,
   "metadata": {},
   "outputs": [],
   "source": [
    "#For SSH \n",
    "def loadingcoastpts(hFacCuse,Z,prevalue,name,name2,name3,nt,t,FILENAME):\n",
    "\n",
    "    dep=0\n",
    "    lat_fix, lon_fix=findlonlat(hFacCuse,dep)\n",
    "\n",
    "\n",
    "    dist_array = np.zeros(len(lon_fix))\n",
    "    p=0\n",
    "    for jj,ii in zip(lon_fix, lat_fix):\n",
    "        lat1 = LAT[ii-2]\n",
    "        lon1 = LON[jj-2]\n",
    "        lat2 = LAT[ii-1]\n",
    "        lon2 = LON[jj-1]\n",
    "        p=p+1\n",
    "        dist_array[p-1]=  haversine(lat1, lon1, lat2, lon2)\n",
    "    \n",
    "    dist_cummul = np.cumsum(dist_array)\n",
    "    \n",
    "    value=prevalue.values\n",
    "    val = np.zeros((nt,len(lon_fix)))\n",
    "    \n",
    "    p=0\n",
    "    \n",
    "    for ii,jj in zip(lon_fix, lat_fix):\n",
    "        p=p+1\n",
    "        val[:,p-1] = value[:,jj-1,ii-1]\n",
    "     \n",
    "    ds = xr.Dataset({name: ((\"time\",\"x\"), val),\n",
    "                    name2:((\"x\"), lon_fix),\n",
    "                    name3:((\"x\"), lat_fix)\n",
    "                    },\n",
    "                    coords ={\n",
    "                    \"x\" : dist_cummul,\n",
    "                    \"time\": t,\n",
    "                    },\n",
    "                   )\n",
    "    \n",
    "    ds.to_netcdf(FILENAME)\n",
    "\n",
    "#For dynvars and pressure, just don't forget to change the depth\n",
    "def varsalongcoasts(hFacCuse,LAT,LON,Z,valvar,name,name2,name3,nt,t,FILENAME):\n",
    "\n",
    "    dep=55\n",
    "    lat_fix, lon_fix=findlonlat(hFacCuse,dep,1)\n",
    "    \n",
    "    dist_array = np.zeros(len(lon_fix[5:-5]))\n",
    "    p=0\n",
    "    for ii,jj in zip(lon_fix[5:-5],lat_fix[5:-5]):\n",
    "        lat1 = LAT[jj-2]\n",
    "        lon1 = LON[ii-2]\n",
    "        lat2 = LAT[jj-1]\n",
    "        lon2 = LON[ii-1]\n",
    "        p=p+1\n",
    "        dist_array[p-1]=  haversine(lat1, lon1, lat2, lon2)\n",
    "\n",
    "    dist_cummul = np.cumsum(dist_array)\n",
    "    rangedep=np.arange(0,71,10)\n",
    "    val = np.zeros((nt,len(lon_fix[5:-5]))) \n",
    "    dd=0\n",
    "\n",
    "    for h in range(nt):\n",
    "        p=0\n",
    "        for n in np.arange(5,len(lon_fix)-5,1):\n",
    "            p=p+1\n",
    "            \n",
    "            value=np.mean(valvar[h-1,lat_fix[n-5:n+5]-1,lon_fix[n-5:n+5]-1])\n",
    "            val[h-1,p-1] = value\n",
    "\n",
    "    lon_fix=lon_fix[5:-5]\n",
    "    lat_fix=lat_fix[5:-5]\n",
    "    \n",
    "    ds = xr.Dataset({name: ((\"time\",\"x\"), val),                 \n",
    "                     name2:((\"x\"), lon_fix),\n",
    "                     name3:((\"x\"), lat_fix)\n",
    "                    },\n",
    "                coords ={\n",
    "                    \"x\" : dist_cummul,\n",
    "                    \"time\": t,\n",
    "                },\n",
    "                )\n",
    "    ds.to_netcdf(FILENAME)\n",
    "    \n",
    "# When you want a diagonal across the area    \n",
    "def varsalldepths(hFacCuse,LAT,LON,Z,valvar,name,name2,name3,nt,t,FILENAME):\n",
    "    Zdyn=Z[:71].values\n",
    "    \n",
    "    \n",
    "    latss=LAT.values\n",
    "    leo=np.arange(4,590,4)\n",
    "    LATSpre=np.delete(latss,np.arange(0,10,1))\n",
    "    LATSpre=np.delete(LATSpre,leo)\n",
    "\n",
    "    lat_ind=np.zeros(455)\n",
    "    for i in np.arange(0,455,1):\n",
    "        indexx=np.where(latss==LATSpre[i])\n",
    "        lat_ind[i]=indexx[0]\n",
    "    \n",
    "    lon_ind=np.flip(np.arange(10,445,1))\n",
    "    lat_ind=lat_ind[10:-10].astype(int)\n",
    "\n",
    "\n",
    "    dist_array = np.zeros(len(lon_ind))\n",
    "    p=0\n",
    "    for ii,jj in zip(lon_ind,lat_ind):\n",
    "        lat1 = LAT[jj-2]\n",
    "        lon1 = LON[ii-2]\n",
    "        lat2 = LAT[jj-1]\n",
    "        lon2 = LON[ii-1]\n",
    "        p=p+1\n",
    "        dist_array[p-1]=  haversine(lat1, lon1, lat2, lon2)\n",
    "\n",
    "    dist_cummul = np.cumsum(dist_array)\n",
    "    rangedep=np.arange(0,71,10)\n",
    "    val = np.zeros((nt,len(Zdyn[rangedep]),len(lon_ind))) \n",
    "    dd=0\n",
    "    \n",
    "    for dep in rangedep:\n",
    "        dd=dd+1\n",
    "        for h in range(nt):\n",
    "            p=0\n",
    "            for ii,jj in zip(lon_ind,lat_ind):\n",
    "                p=p+1\n",
    "                value=valvar[h-1,dep,jj-1,ii-1]\n",
    "                val[h-1,dd-1,p-1] = value\n",
    "            \n",
    "\n",
    "    ds = xr.Dataset({name: ((\"time\",\"z\",\"x\"), val),                 \n",
    "                     name2:((\"x\"), lon_ind),\n",
    "                     name3:((\"x\"), lat_ind)\n",
    "                    },\n",
    "                coords ={\n",
    "                    \"x\" : dist_cummul,\n",
    "                    \"z\" : Zdyn[rangedep],\n",
    "                    \"time\": t,\n",
    "                },\n",
    "                )\n",
    "    ds.to_netcdf(FILENAME)"
   ]
  },
  {
   "cell_type": "markdown",
   "metadata": {},
   "source": [
    "#### Loading NetCDF files of the dynvars"
   ]
  },
  {
   "cell_type": "code",
   "execution_count": 5,
   "metadata": {},
   "outputs": [],
   "source": [
    "def loadNetCDFs(varname):\n",
    "    dsw=[]\n",
    "    dsn=[]\n",
    "    for i in np.arange(0,8,1):\n",
    "        \n",
    "        if varname=='DYNVARS':\n",
    "            pathn='/media/amelia/Trillian/SVB/exp06_512x612x100_ORL/01_noSVB_febTS/'+ str(varname)+'noSVB'+ str(2+i)+'_'+ str(3+i) +'.nc'\n",
    "            pathw='/media/amelia/Trillian/SVB/exp06_512x612x100_ORL_SVB/01_SVB_febTS/'+ str(varname)+'withSVB'+ str(2+i)+'_'+ str(3+i) +'.nc'\n",
    "        else:\n",
    "            pathn='/media/amelia/Trillian/SVB/exp06_512x612x100_ORL/01b_noSVB_febTS/'+ str(varname)+'noSVB'+ str(2+i)+'_'+ str(3+i) +'.nc'\n",
    "            pathw='/media/amelia/Trillian/SVB/exp06_512x612x100_ORL_SVB/01b_SVB_febTS/'+ str(varname)+'withSVB'+ str(2+i)+'_'+ str(3+i) +'.nc'\n",
    "        \n",
    "        dswin  = xr.open_dataset(pathw)\n",
    "        dsnin = xr.open_dataset(pathn)\n",
    "        \n",
    "        dsw.append(dswin)\n",
    "        dsn.append(dsnin)\n",
    "        \n",
    "    return dsw, dsn"
   ]
  },
  {
   "cell_type": "code",
   "execution_count": 6,
   "metadata": {},
   "outputs": [],
   "source": [
    "dsw,dsn=loadNetCDFs('DYNVARS')"
   ]
  },
  {
   "cell_type": "markdown",
   "metadata": {},
   "source": [
    "#### For Vertical hovmöller plots"
   ]
  },
  {
   "cell_type": "code",
   "execution_count": 17,
   "metadata": {},
   "outputs": [],
   "source": [
    "hej=[58,65, 111, 125, 130, 205,220, 267,278, 299, 360,405] # These are the indexes where the values are a bit odd\n",
    "#The following is to get the wanted indexes and Z values\n",
    "varname='WVEL'\n",
    "i=1\n",
    "pathw='/media/amelia/Trillian/SVB/exp06_512x612x100_ORL_SVB/01_SVB_febTS/'+ str(varname)+'ACwithSVBdep55'+ str(2+i)+'_'+ str(3+i) +'all.nc'\n",
    "dswpts  = xr.open_dataset(pathw)\n",
    "lonind=dswpts.lonAC\n",
    "latind=dswpts.latAC\n",
    "\n",
    "varname='DYNVARS'\n",
    "path='/media/amelia/Trillian/SVB/exp06_512x612x100_ORL_SVB/01_SVB_febTS/'+ str(varname)+'withSVB'+ str(2+i)+'_'+ str(3+i) +'.nc'\n",
    "        \n",
    "dswdep  = xr.open_dataset(path)\n",
    "\n",
    "Z=dswdep.Z.values"
   ]
  },
  {
   "cell_type": "code",
   "execution_count": 18,
   "metadata": {},
   "outputs": [
    {
     "name": "stdout",
     "output_type": "stream",
     "text": [
      "With bay one is done\n",
      "Without bay one is done\n"
     ]
    }
   ],
   "source": [
    "for l in np.arange(len(hej)):\n",
    "    l=0\n",
    "    FILENAME=f'WVELvertical{hej[l]}.nc'\n",
    "\n",
    "    var23=dsw[0].WVEL[:,:,latind[hej[l]],lonind[hej[l]]].values\n",
    "    var34=dsw[1].WVEL[:,:,latind[hej[l]],lonind[hej[l]]].values\n",
    "    var45=dsw[2].WVEL[:,:,latind[hej[l]],lonind[hej[l]]].values\n",
    "    var56=dsw[3].WVEL[:,:,latind[hej[l]],lonind[hej[l]]].values\n",
    "    var67=dsw[4].WVEL[:,:,latind[hej[l]],lonind[hej[l]]].values\n",
    "    var78=dsw[5].WVEL[:,:,latind[hej[l]],lonind[hej[l]]].values\n",
    "    var89=dsw[6].WVEL[:,:,latind[hej[l]],lonind[hej[l]]].values\n",
    "    var910=dsw[7].WVEL[:,:,latind[hej[l]],lonind[hej[l]]].values\n",
    "\n",
    "    Ww=np.concatenate((var23, var34, var45, var56,var67,var78,var89, var910), axis=0)# , ,var910), axis=0) \n",
    "    print('With bay one is done')\n",
    "\n",
    "    var23n=dsn[0].WVEL[:,:,latind[hej[l]],lonind[hej[l]]].values\n",
    "    var34n=dsn[1].WVEL[:,:,latind[hej[l]],lonind[hej[l]]].values\n",
    "    var45n=dsn[2].WVEL[:,:,latind[hej[l]],lonind[hej[l]]].values\n",
    "    var56n=dsn[3].WVEL[:,:,latind[hej[l]],lonind[hej[l]]].values                \n",
    "    var67n=dsn[4].WVEL[:,:,latind[hej[l]],lonind[hej[l]]].values\n",
    "    var78n=dsn[5].WVEL[:,:,latind[hej[l]],lonind[hej[l]]].values\n",
    "    var89n=dsn[6].WVEL[:,:,latind[hej[l]],lonind[hej[l]]].values\n",
    "    var910n=dsn[7].WVEL[:,:,latind[hej[l]],lonind[hej[l]]].values\n",
    "\n",
    "    Wn=np.concatenate((var23n, var34n, var45n, var56n,var67n,var78n,var89n, var910n), axis=0) #, var910n), axis=0) \n",
    "    print('Without bay one is done')\n",
    "\n",
    "    time23=dsw[0].time.values.astype(int)\n",
    "    time34=dsw[1].time.values.astype(int)\n",
    "    time45=dsw[2].time.values.astype(int)\n",
    "    time56=dsw[3].time.values.astype(int)\n",
    "    time67=dsw[4].time.values.astype(int)\n",
    "    time78=dsw[5].time.values.astype(int)\n",
    "    time89=dsw[6].time.values.astype(int)\n",
    "    time910=dsw[7].time.values.astype(int)\n",
    "\n",
    "    Time=np.concatenate((time23, time34, time45, time56,time67, time78,time89, time910), axis=0)#, time910), axis=0)\n",
    "\n",
    "    times=Time*1e-9\n",
    "\n",
    "    ds = xr.Dataset({'Ww': ((\"time\",\"z\"), Ww),\n",
    "                     'Wn': ((\"time\",\"z\"), Wn)\n",
    "                    },\n",
    "                    coords ={\n",
    "                        \"z\" : Z,\n",
    "                        \"time\": times,\n",
    "                    },\n",
    "                   )\n",
    "    ds.to_netcdf(FILENAME)"
   ]
  },
  {
   "cell_type": "markdown",
   "metadata": {},
   "source": [
    "### To save all velocity along the coast"
   ]
  },
  {
   "cell_type": "code",
   "execution_count": 141,
   "metadata": {},
   "outputs": [
    {
     "name": "stdout",
     "output_type": "stream",
     "text": [
      "Done\n",
      "Done\n",
      "Done\n",
      "Done\n",
      "Done\n",
      "Done\n",
      "Done\n",
      "Done\n",
      "Done\n",
      "Done\n",
      "Done\n",
      "Done\n",
      "Done\n",
      "Done\n",
      "Done\n",
      "Done\n"
     ]
    }
   ],
   "source": [
    "LAT=dsw[0].YC\n",
    "LON=dsw[0].XC-360\n",
    "Zdyn = dsw[0].Z\n",
    "hFacCw = dsw[0].hFacC\n",
    "hFacCn = dsn[0].hFacC\n",
    "hFacCusew=hFacCw.values\n",
    "hFacCusen=hFacCn.values\n",
    "\n",
    "varname='WVEL'\n",
    "\n",
    "for l in np.arange(0,8,1):\n",
    "    pathn='/media/amelia/Trillian/SVB/exp06_512x612x100_ORL/01_noSVB_febTS/'+ str(varname)+'ACnoSVBdep55'+ str(2+l)+'_'+ str(3+l) +'all.nc'\n",
    "    pathw='/media/amelia/Trillian/SVB/exp06_512x612x100_ORL_SVB/01_SVB_febTS/'+ str(varname)+'ACwithSVBdep55'+ str(2+l)+'_'+ str(3+l) +'all.nc'\n",
    "\n",
    "    Ww=dsw[l].WVEL[:,55,:,:].values\n",
    "    Wn=dsn[l].WVEL[:,55,:,:].values\n",
    "\n",
    "    TIMEdyn=dsw[l].time\n",
    "    ntdyn = np.size(TIMEdyn)\n",
    "\n",
    "    varsalongcoasts(hFacCusew,LAT,LON,Zdyn,Ww,'Ww','lonAC','latAC',ntdyn,TIMEdyn,pathw)\n",
    "    varsalongcoasts(hFacCusen,LAT,LON,Zdyn,Wn,'Wn','lonAC','latAC',ntdyn,TIMEdyn,pathn)\n",
    "\n"
   ]
  },
  {
   "cell_type": "code",
   "execution_count": 9,
   "metadata": {
    "scrolled": true
   },
   "outputs": [
    {
     "name": "stdout",
     "output_type": "stream",
     "text": [
      "Done\n",
      "Done\n",
      "Done\n",
      "Done\n",
      "Done\n",
      "Done\n",
      "Done\n",
      "Done\n",
      "Done\n",
      "Done\n",
      "Done\n",
      "Done\n",
      "Done\n",
      "Done\n",
      "Done\n",
      "Done\n"
     ]
    }
   ],
   "source": [
    "LAT=dsw[0].YC\n",
    "LON=dsw[0].XC-360\n",
    "Zdyn = dsw[0].Z\n",
    "hFacCw = dsw[0].hFacC\n",
    "hFacCn = dsn[0].hFacC\n",
    "hFacCusew=hFacCw.values\n",
    "hFacCusen=hFacCn.values\n",
    "\n",
    "varname='VVEL'\n",
    "\n",
    "for l in np.arange(0,8,1):\n",
    "    pathn='/media/amelia/Trillian/SVB/exp06_512x612x100_ORL/01_noSVB_febTS/'+ str(varname)+'ACnoSVBdep55'+ str(2+l)+'_'+ str(3+l) +'all.nc'\n",
    "    pathw='/media/amelia/Trillian/SVB/exp06_512x612x100_ORL_SVB/01_SVB_febTS/'+ str(varname)+'ACwithSVBdep55'+ str(2+l)+'_'+ str(3+l) +'all.nc'\n",
    "\n",
    "    Vw=dsw[l].VVEL[:,55,:,:].values\n",
    "    Vn=dsn[l].VVEL[:,55,:,:].values\n",
    "\n",
    "    TIMEdyn=dsw[l].time\n",
    "    ntdyn = np.size(TIMEdyn)\n",
    "\n",
    "    varsalongcoasts(hFacCusew,LAT,LON,Zdyn,Vw,'Vw','lonAC','latAC',ntdyn,TIMEdyn,pathw)\n",
    "    varsalongcoasts(hFacCusen,LAT,LON,Zdyn,Vn,'Vn','lonAC','latAC',ntdyn,TIMEdyn,pathn)\n",
    "\n"
   ]
  },
  {
   "cell_type": "code",
   "execution_count": 12,
   "metadata": {},
   "outputs": [
    {
     "name": "stdout",
     "output_type": "stream",
     "text": [
      "Done\n",
      "Done\n",
      "Done\n",
      "Done\n",
      "Done\n",
      "Done\n",
      "Done\n",
      "Done\n",
      "Done\n",
      "Done\n",
      "Done\n",
      "Done\n",
      "Done\n",
      "Done\n",
      "Done\n",
      "Done\n"
     ]
    }
   ],
   "source": [
    "LAT=dsw[0].YC\n",
    "LON=dsw[0].XC-360\n",
    "Zdyn = dsw[0].Z\n",
    "hFacCw = dsw[0].hFacC\n",
    "hFacCn = dsn[0].hFacC\n",
    "hFacCusew=hFacCw.values\n",
    "hFacCusen=hFacCn.values\n",
    "\n",
    "varname='UVEL'\n",
    "\n",
    "for l in np.arange(0,8,1):\n",
    "\n",
    "    pathn='/media/amelia/Trillian/SVB/exp06_512x612x100_ORL/01_noSVB_febTS/'+ str(varname)+'ACnoSVBdep55'+ str(2+l)+'_'+ str(3+l) +'all.nc'\n",
    "    pathw='/media/amelia/Trillian/SVB/exp06_512x612x100_ORL_SVB/01_SVB_febTS/'+ str(varname)+'ACwithSVBdep55'+ str(2+l)+'_'+ str(3+l) +'all.nc'\n",
    "\n",
    "    Uw=dsw[l].UVEL[:,55,:,:].values\n",
    "    Un=dsn[l].UVEL[:,55,:,:].values\n",
    "\n",
    "    TIMEdyn=dsw[l].time\n",
    "    ntdyn = np.size(TIMEdyn)\n",
    "\n",
    "    varsalongcoasts(hFacCusew,LAT,LON,Zdyn,Uw,'Uw','lonAC','latAC',ntdyn,TIMEdyn,pathw)\n",
    "    varsalongcoasts(hFacCusen,LAT,LON,Zdyn,Un,'Un','lonAC','latAC',ntdyn,TIMEdyn,pathn)\n"
   ]
  },
  {
   "cell_type": "markdown",
   "metadata": {},
   "source": [
    "# SSH "
   ]
  },
  {
   "cell_type": "code",
   "execution_count": 9,
   "metadata": {},
   "outputs": [],
   "source": [
    "data_dirWITH= '/media/amelia/Trillian/SVB/exp06_512x612x100_ORL_SVB/01_SVB_febTS/'\n",
    "data_dirNO= '/media/amelia/Trillian/SVB/exp06_512x612x100_ORL/01_noSVB_febTS/'"
   ]
  },
  {
   "cell_type": "code",
   "execution_count": 10,
   "metadata": {},
   "outputs": [],
   "source": [
    "iters = np.arange(2880,14400,20)\n",
    "dsn=open_mdsdataset(data_dirNO,data_dirNO,prefix=['eta'],default_dtype='>f4',iters=iters)"
   ]
  },
  {
   "cell_type": "code",
   "execution_count": 11,
   "metadata": {},
   "outputs": [],
   "source": [
    "iters = np.arange(2880,14400,20)\n",
    "\n",
    "dsw=open_mdsdataset(data_dirWITH,data_dirWITH,prefix=['eta'],default_dtype='>f4',iters=iters)"
   ]
  },
  {
   "cell_type": "code",
   "execution_count": 6,
   "metadata": {},
   "outputs": [],
   "source": [
    "etaw=dsw.ETAN\n",
    "etan=dsn.ETAN\n",
    "\n",
    "\n",
    "Zeta = dsw.Z\n",
    "TIMEeta=dsw.time\n",
    "nteta = np.size(TIMEeta)\n",
    "\n",
    "depth = dsw.Depth\n",
    "LAT = dsw.YC\n",
    "LON = dsw.XC-360\n",
    "\n",
    "hFacCw = dsw.hFacC\n",
    "hFacCn = dsn.hFacC\n",
    "\n",
    "\n",
    "maskcw=dsw.maskInC==False\n",
    "maskcn=dsn.maskInC==False\n",
    "\n",
    "\n",
    "ind30=170+50 #30° N\n",
    "ind307=170+100 #30.7° N\n",
    "ind314=170+150 #31.4° N\n",
    "ind32=170+200 #32° N\n",
    "\n",
    "indlon = 50 # Lon of land at N boundary\n",
    "\n",
    "nx = 512\n",
    "ny = 612\n",
    "nz = 100\n",
    "\n",
    "hFacCuse=hFacCw.values"
   ]
  },
  {
   "cell_type": "code",
   "execution_count": 212,
   "metadata": {
    "scrolled": true
   },
   "outputs": [
    {
     "name": "stdout",
     "output_type": "stream",
     "text": [
      "Done\n",
      "Done\n"
     ]
    }
   ],
   "source": [
    "loadingcoastpts(hFacCuse,Zeta,etaw,'ETA','lonAC','latAC',nteta,TIMEeta,'/media/amelia/Trillian/SVB/exp06_512x612x100_ORL_SVB/01_SVB_febTS/ETAwithSVBACall.nc')\n",
    "loadingcoastpts(hFacCuse,Zeta,etan,'ETA','lonAC','latAC',nteta,TIMEeta,'/media/amelia/Trillian/SVB/exp06_512x612x100_ORL/01_noSVB_febTS/ETAnoSVBACall.nc')"
   ]
  },
  {
   "cell_type": "markdown",
   "metadata": {},
   "source": [
    "# Pressure "
   ]
  },
  {
   "cell_type": "code",
   "execution_count": 7,
   "metadata": {},
   "outputs": [],
   "source": [
    "data_dirWITH= '/media/amelia/Trillian/SVB/exp06_512x612x100_ORL_SVB/01b_SVB_febTS/'\n",
    "\n",
    "levels=np.arange(0,76,1)\n",
    "dsw=open_mdsdataset(data_dirWITH,data_dirWITH,prefix=['phiHyd'],levels=levels,default_dtype='>f4')\n",
    "\n",
    "Pw=dsw.PHIHYD #Hydrostatic ressure in m^2/s^2\n",
    "depth=dsw.Depth #Depth in m over x and y\n",
    "TIMEw=dsw.time #Time in minutes from day 2 until day 10 with time step 1 day\n",
    "ntw = np.size(TIMEw) #How many time steps\n",
    "Z=dsw.Z[:71] #Depth in m\n",
    "\n",
    "dswbot=open_mdsdataset(data_dirWITH,data_dirWITH,prefix=['phiBot'],levels=levels,default_dtype='>f4',ignore_unknown_vars=True)\n",
    "Pwbot=dswbot.PHIBOT"
   ]
  },
  {
   "cell_type": "code",
   "execution_count": 8,
   "metadata": {},
   "outputs": [],
   "source": [
    "data_dirNO= '/media/amelia/Trillian/SVB/exp06_512x612x100_ORL/01b_noSVB_febTS/'\n",
    "levels=np.arange(0,76,1)\n",
    "dsn=open_mdsdataset(data_dirNO,data_dirNO,prefix=['phiHyd'],levels=levels,default_dtype='>f4')\n",
    "Pn=dsn.PHIHYD\n",
    "\n",
    "dsnbot=open_mdsdataset(data_dirNO,data_dirNO,prefix=['phiBot'],levels=levels,default_dtype='>f4')\n",
    "Pnbot=dsnbot.PHIBOT"
   ]
  },
  {
   "cell_type": "code",
   "execution_count": 44,
   "metadata": {},
   "outputs": [],
   "source": [
    "Pw=Pwbot.values"
   ]
  },
  {
   "cell_type": "code",
   "execution_count": 45,
   "metadata": {},
   "outputs": [],
   "source": [
    "Pn=Pnbot.values"
   ]
  },
  {
   "cell_type": "code",
   "execution_count": 42,
   "metadata": {},
   "outputs": [],
   "source": [
    "Zp=dswbot.Z\n",
    "TIMEp=dsnbot.time\n",
    "nt = np.size(TIMEp)\n",
    "\n",
    "depth = dswbot.Depth\n",
    "LAT = dswbot.YC\n",
    "LON = dswbot.XC-360\n",
    "\n",
    "hFacCw = dswbot.hFacC\n",
    "hFacCn = dsnbot.hFacC\n",
    "\n",
    "\n",
    "maskcw=dsw.maskInC==False\n",
    "maskcn=dsn.maskInC==False\n",
    "\n",
    "\n",
    "ind30=170+50 #30° N\n",
    "ind307=170+100 #30.7° N\n",
    "ind314=170+150 #31.4° N\n",
    "ind32=170+200 #32° N\n",
    "\n",
    "indlon = 50 # Lon of land at N boundary\n",
    "\n",
    "nx = 512\n",
    "ny = 612\n",
    "nz = 100\n",
    "\n",
    "hFacCusew=hFacCw.values\n",
    "hFacCusen=hFacCn.values"
   ]
  },
  {
   "cell_type": "code",
   "execution_count": 43,
   "metadata": {},
   "outputs": [
    {
     "name": "stdout",
     "output_type": "stream",
     "text": [
      "Done\n",
      "Done\n"
     ]
    }
   ],
   "source": [
    "varname='PBOT'\n",
    "pathn='/media/amelia/Trillian/SVB/exp06_512x612x100_ORL/01b_noSVB_febTS/'+ str(varname)+'ACnoSVB.nc'\n",
    "pathw='/media/amelia/Trillian/SVB/exp06_512x612x100_ORL_SVB/01b_SVB_febTS/'+ str(varname)+'ACwithSVB.nc'\n",
    "\n",
    "varsalongcoasts(hFacCusew,LAT,LON,Zp,Pw,'PwBot','lonAC','latAC',nt,TIMEp,pathw)\n",
    "varsalongcoasts(hFacCusen,LAT,LON,Zp,Pn,'PnBot','lonAC','latAC',nt,TIMEp,pathn)\n"
   ]
  },
  {
   "cell_type": "code",
   "execution_count": null,
   "metadata": {},
   "outputs": [],
   "source": [
    "dsw,dsn=loadNetCDFs('PHIHYD')"
   ]
  },
  {
   "cell_type": "code",
   "execution_count": 9,
   "metadata": {},
   "outputs": [
    {
     "name": "stdout",
     "output_type": "stream",
     "text": [
      "Done\n",
      "Done\n",
      "Done\n",
      "Done\n",
      "Done\n",
      "Done\n",
      "Done\n",
      "Done\n",
      "Done\n",
      "Done\n",
      "Done\n",
      "Done\n",
      "Done\n",
      "Done\n",
      "Done\n",
      "Done\n"
     ]
    }
   ],
   "source": [
    "LAT=dsw[0].YC\n",
    "LON=dsw[0].XC-360\n",
    "Zp = dsw[0].Z\n",
    "hFacCw = dsw[0].hFacC\n",
    "hFacCn = dsn[0].hFacC\n",
    "hFacCusew=hFacCw.values\n",
    "hFacCusen=hFacCn.values\n",
    "\n",
    "varname='PHIHYD'\n",
    "\n",
    "for l in np.arange(0,8,1):\n",
    "    pathn='/media/amelia/Trillian/SVB/exp06_512x612x100_ORL/01b_noSVB_febTS/'+ str(varname)+'ACnoSVBdep55'+ str(2+l)+'_'+ str(3+l) +'all.nc'\n",
    "    pathw='/media/amelia/Trillian/SVB/exp06_512x612x100_ORL_SVB/01b_SVB_febTS/'+ str(varname)+'ACwithSVBdep55'+ str(2+l)+'_'+ str(3+l) +'all.nc'\n",
    "\n",
    "    Pw=dsw[l].PHIHYD[:,55,:,:].values\n",
    "    Pn=dsn[l].PHIHYD[:,55,:,:].values\n",
    "\n",
    "    TIMEp=dsw[l].time\n",
    "    ntp = np.size(TIMEp)\n",
    "\n",
    "    varsalongcoasts(hFacCusew,LAT,LON,Zp,Pw,'Pw','lonAC','latAC',ntp,TIMEp,pathw)\n",
    "    varsalongcoasts(hFacCusen,LAT,LON,Zp,Pn,'Pn','lonAC','latAC',ntp,TIMEp,pathn)"
   ]
  },
  {
   "cell_type": "code",
   "execution_count": null,
   "metadata": {},
   "outputs": [],
   "source": []
  },
  {
   "cell_type": "markdown",
   "metadata": {},
   "source": [
    "## Density"
   ]
  },
  {
   "cell_type": "code",
   "execution_count": 8,
   "metadata": {},
   "outputs": [],
   "source": [
    "dswrho,dsnrho=loadNetCDFs('RHO')"
   ]
  },
  {
   "cell_type": "code",
   "execution_count": 12,
   "metadata": {},
   "outputs": [
    {
     "name": "stdout",
     "output_type": "stream",
     "text": [
      "Done\n",
      "Done\n",
      "Done\n",
      "Done\n",
      "Done\n",
      "Done\n",
      "Done\n",
      "Done\n",
      "Done\n",
      "Done\n",
      "Done\n",
      "Done\n",
      "Done\n",
      "Done\n",
      "Done\n",
      "Done\n"
     ]
    }
   ],
   "source": [
    "LAT=dswrho[0].YC\n",
    "LON=dswrho[0].XC-360\n",
    "Zdyn = dswrho[0].Z\n",
    "hFacCw = dswrho[0].hFacC\n",
    "hFacCn = dsnrho[0].hFacC\n",
    "hFacCusew=hFacCw.values\n",
    "hFacCusen=hFacCn.values\n",
    "\n",
    "varname='RHO'\n",
    "\n",
    "for l in np.arange(0,8,1):\n",
    "    pathn='/media/amelia/Trillian/SVB/exp06_512x612x100_ORL/01b_noSVB_febTS/'+ str(varname)+'ACnoSVBdep55'+ str(2+l)+'_'+ str(3+l) +'all.nc'\n",
    "    pathw='/media/amelia/Trillian/SVB/exp06_512x612x100_ORL_SVB/01b_SVB_febTS/'+ str(varname)+'ACwithSVBdep55'+ str(2+l)+'_'+ str(3+l) +'all.nc'\n",
    "\n",
    "    rhow=dswrho[l].RHOAnoma[:,55,:,:].values\n",
    "    rhon=dsnrho[l].RHOAnoma[:,55,:,:].values\n",
    "\n",
    "    TIMEdyn=dswrho[l].time\n",
    "    ntdyn = np.size(TIMEdyn)\n",
    "\n",
    "    varsalongcoasts(hFacCusew,LAT,LON,Zdyn,rhow,'rhow','lonAC','latAC',ntdyn,TIMEdyn,pathw)\n",
    "    varsalongcoasts(hFacCusen,LAT,LON,Zdyn,rhon,'rhon','lonAC','latAC',ntdyn,TIMEdyn,pathn)"
   ]
  },
  {
   "cell_type": "markdown",
   "metadata": {},
   "source": [
    "## Plot the points"
   ]
  },
  {
   "cell_type": "code",
   "execution_count": 17,
   "metadata": {},
   "outputs": [],
   "source": [
    "LAT=dsw.YC\n",
    "LON=dsw.XC-360\n",
    "Zdyn = dsw.Z\n",
    "hFacCw = dsw.hFacC\n",
    "hFacCn = dsn.hFacC\n",
    "hFacCusew=hFacCw.values\n",
    "hFacCusen=hFacCn.values\n",
    "depth = dsw.Depth"
   ]
  },
  {
   "cell_type": "code",
   "execution_count": 14,
   "metadata": {},
   "outputs": [
    {
     "name": "stdout",
     "output_type": "stream",
     "text": [
      "Done\n"
     ]
    }
   ],
   "source": [
    "lat_inds, lon_inds=findlonlat(hFacCusew,10,1)"
   ]
  },
  {
   "cell_type": "code",
   "execution_count": 15,
   "metadata": {
    "scrolled": true
   },
   "outputs": [],
   "source": [
    "params = {'font.size': 18,\n",
    "          'figure.figsize': (30, 30),\n",
    "         'font.family':'serif'}\n",
    "pl.rcParams.update(params)"
   ]
  },
  {
   "cell_type": "code",
   "execution_count": 24,
   "metadata": {
    "scrolled": false
   },
   "outputs": [
    {
     "data": {
      "image/png": "[encoded data removed]",
      "text/plain": [
       "<Figure size 720x648 with 2 Axes>"
      ]
     },
     "metadata": {
      "needs_background": "light"
     },
     "output_type": "display_data"
    }
   ],
   "source": [
    "fig, ax = plt.subplots(1,1,figsize=(10,9))\n",
    "ax.set_facecolor('tan')\n",
    "pc = ax.pcolormesh(LON,LAT,depth, cmap=cmocean.cm.deep)#, extend='max')\n",
    "cb = plt.colorbar(pc, extend='max',label='depth / m')\n",
    "cn = ax.contour(LON,LAT,depth, colors=['0.3','0.6'], \n",
    "                levels=[0,500])\n",
    "\n",
    "for ii,jj in zip(lon_inds,lat_inds):\n",
    "\n",
    "    ax.plot(LON[ii-1],LAT[jj-1],'o', \n",
    "            markersize=4, color='r')\n",
    "\n",
    "# To show it begins and ends where it should\n",
    "ax.plot(LON[lon_inds[0]],LAT[lat_inds[0]],'o', \n",
    "           markersize=10, color='orange') \n",
    "ax.plot(LON[lon_inds[-1]],LAT[lat_inds[-1]],'o', \n",
    "           markersize=10, color='blue') \n",
    "\n",
    "\n",
    "\n",
    "cb.set_label('Depth [m]')\n",
    "ax.set_xlabel('Lon [°]')\n",
    "ax.set_ylabel('Lat [°]')\n",
    "ax.set_xlim(238-360, 246-360)\n",
    "ax.set_ylim(27,35.3)\n",
    "ax.set_aspect(1)"
   ]
  },
  {
   "cell_type": "markdown",
   "metadata": {},
   "source": [
    "### Filling the holes by hand\n",
    "Attempted, Does not work"
   ]
  },
  {
   "cell_type": "code",
   "execution_count": null,
   "metadata": {},
   "outputs": [],
   "source": [
    "[58 111 125:130 205 267:299 360:405] #Indices for weird values in the hovmoller"
   ]
  },
  {
   "cell_type": "code",
   "execution_count": 402,
   "metadata": {},
   "outputs": [],
   "source": [
    "lon_inds=np.insert(lon_inds,261,k[145]) #k[145:152]k[155:161]\n",
    "lat_inds=np.insert(lat_inds,261,l[145])"
   ]
  },
  {
   "cell_type": "code",
   "execution_count": 320,
   "metadata": {},
   "outputs": [],
   "source": [
    "lon_inds=np.insert(lon_inds,153,k[132])\n",
    "lat_inds=np.insert(lat_inds,153,l[132])"
   ]
  },
  {
   "cell_type": "code",
   "execution_count": 443,
   "metadata": {},
   "outputs": [],
   "source": [
    "lon_inds=np.insert(lon_inds,310,k[182]) #182 and 183\n",
    "lat_inds=np.insert(lat_inds,310,l[182])"
   ]
  },
  {
   "cell_type": "code",
   "execution_count": 485,
   "metadata": {},
   "outputs": [],
   "source": [
    "lon_inds=np.insert(lon_inds,316,k[191:241])\n",
    "lat_inds=np.insert(lat_inds,316,l[191:241])"
   ]
  },
  {
   "cell_type": "code",
   "execution_count": 486,
   "metadata": {},
   "outputs": [],
   "source": [
    "lon_inds=np.insert(lon_inds,316,k[259:273])\n",
    "lat_inds=np.insert(lat_inds,316,l[259:273])"
   ]
  },
  {
   "cell_type": "code",
   "execution_count": 518,
   "metadata": {},
   "outputs": [],
   "source": [
    "while all(x<=y for x, y in zip(dist_array, dist_array[1:])) == False:\n",
    "    for i in np.arange(np.size(dist_array)):\n",
    "\n",
    "        if np.any(dist_array[:i]>dist_array[i]):\n",
    "            plonki=np.where(dist_array[:i]>dist_array[i])\n",
    "            plonk=plonki[0][0]\n",
    "            distval=dist_array[i]\n",
    "            dist_array=np.delete(dist_array,i)\n",
    "            dist_array=np.insert(dist_array,plonk,distval)\n",
    "            \n",
    "            lonval=lon_inds[i]\n",
    "            lon_inds=np.delete(lon_inds,i)\n",
    "            lon_inds=np.insert(lon_inds,plonk,lonval)\n",
    "            \n",
    "            latval=lat_inds[i]\n",
    "            lat_inds=np.delete(lat_inds,i)\n",
    "            lat_inds=np.insert(lat_inds,plonk,latval)\n",
    "            #print(i)\n"
   ]
  },
  {
   "cell_type": "code",
   "execution_count": null,
   "metadata": {},
   "outputs": [],
   "source": [
    "for ii,jj in zip(lon_fix,lat_fix):\n",
    "    if depth[jj-1,ii-1] == 0:\n",
    "        lon_fix[np.where(lon_fix == ii)]=ii-1\n",
    "        lat_fix[np.where(lat_fix == jj)]=jj-1\n",
    "        print(str(depth[jj-2,ii-2].values))\n",
    "        "
   ]
  },
  {
   "cell_type": "code",
   "execution_count": 106,
   "metadata": {},
   "outputs": [],
   "source": [
    "def findlonlat(hFacCuse,d,var):\n",
    "\n",
    "    nx = 512\n",
    "    ny = 612\n",
    "    ind30=150 #30° N Write 150 later to get in the bay too\n",
    "    indlon = 50 # Lon of land at N boundary\n",
    "\n",
    "    lon_inds_off = np.argmax(np.squeeze(hFacCuse[d,:,::-1]), axis=1)\n",
    "\n",
    "\n",
    "    lon_inds = np.ones_like(lon_inds_off[ind30:])*nx - lon_inds_off[ind30:]\n",
    "    lat_inds = np.ones_like(lon_inds)*ind30 + np.arange(len(lon_inds))\n",
    "\n",
    "    lat_inds_off = np.argmax(np.squeeze(hFacCuse[d,::-1,:]), axis=0)\n",
    "\n",
    "\n",
    "\n",
    "    lat_inds_2 = np.ones_like(lat_inds_off[indlon:])*ny - lat_inds_off[indlon:]\n",
    "    lon_inds_2 = np.ones_like(lat_inds)*indlon + np.arange(len(lat_inds))\n",
    "\n",
    "    p=0\n",
    "\n",
    "    k=np.ones_like(lon_inds)\n",
    "    l=np.ones_like(lat_inds)\n",
    "\n",
    "    for i in np.arange(len(lon_inds_2)):\n",
    "        if lon_inds_2[i] not in lon_inds:\n",
    "            p=p+1\n",
    "            k[p]=lon_inds_2[i]\n",
    "            l[p]=lat_inds_2[i]\n",
    "        \n",
    "    k=k[k!=1]\n",
    "    l=l[l!=1]\n",
    "    \n",
    "    # Fill the holes\n",
    "    korvarray=[]\n",
    "    for i in np.arange(len(l)):\n",
    "        if l[i] not in korvarray:\n",
    "            indexpts=np.where(lat_inds==l[i])\n",
    "            indexs=np.where(l==lat_inds[indexpts[0]])\n",
    "            lon_inds=np.insert(lon_inds,indexpts[0],k[indexs])\n",
    "            lat_inds=np.insert(lat_inds,indexpts[0],l[indexs])\n",
    "            korvarray.append(l[i])\n",
    "    \n",
    "    #Organize where the values are in the wrong order\n",
    "    if var==1:\n",
    "        lon_lat=np.zeros((2,len(lon_inds[332:436])))\n",
    "        lon_lat[0,:]=lat_inds[332:436]\n",
    "        lon_lat[1,:]=lon_inds[332:436]\n",
    "\n",
    "        inds=lon_lat[1, :].argsort()\n",
    "        indices=np.flip(inds)\n",
    "\n",
    "        latis=lon_lat[0,indices]\n",
    "        lonis=lon_lat[1,indices]\n",
    "\n",
    "        lat_inds[332:436]=latis\n",
    "        lon_inds[332:436]=lonis\n",
    "        \n",
    "    hej= [77, 115, 126, 140, 148, 161, 163, 213, 219, 224, 226, 228, 277,\n",
    "       278, 283, 285, 289, 290, 292, 308, 364, 375, 377, 378, 381, 385,\n",
    "       391, 397, 400, 403, 409, 420, 436, 437, 438, 439, 442, 444, 446,\n",
    "       449, 451, 453, 455, 459, 461, 477, 484, 524]\n",
    "    \n",
    "    hej=np.array(hej)\n",
    "    \n",
    "    lat_inds=np.delete(lat_inds,hej)\n",
    "    lon_inds=np.delete(lon_inds,hej)\n",
    "    print(\"Done\")\n",
    "    \n",
    "    return(lat_inds, lon_inds)"
   ]
  }
 ],
 "metadata": {
  "kernelspec": {
   "display_name": "Python 3 (ipykernel)",
   "language": "python",
   "name": "python3"
  },
  "language_info": {
   "codemirror_mode": {
    "name": "ipython",
    "version": 3
   },
   "file_extension": ".py",
   "mimetype": "text/x-python",
   "name": "python",
   "nbconvert_exporter": "python",
   "pygments_lexer": "ipython3",
   "version": "3.10.6"
  }
 },
 "nbformat": 4,
 "nbformat_minor": 2
}
