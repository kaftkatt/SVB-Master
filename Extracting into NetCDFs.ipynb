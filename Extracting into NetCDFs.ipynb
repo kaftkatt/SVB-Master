{
 "cells": [
  {
   "cell_type": "markdown",
   "metadata": {},
   "source": [
    "# For creation of smaller sized NetCDF files from large MITgcm outputs"
   ]
  },
  {
   "cell_type": "code",
   "execution_count": 12,
   "metadata": {},
   "outputs": [],
   "source": [
    "from xmitgcm import open_mdsdataset\n",
    "import xmitgcm \n",
    "from MITgcmutils import diagnostics\n",
    "import numpy as np\n",
    "import xarray as xr\n",
    "import netCDF4 as nc\n",
    "import warnings\n",
    "warnings.filterwarnings(\"ignore\")"
   ]
  },
  {
   "cell_type": "code",
   "execution_count": 16,
   "metadata": {},
   "outputs": [],
   "source": [
    "def createNetCDF(prefix,whatdaystart,whatdayfinish,varname):\n",
    "    day=np.arange(whatdaystart*24*60,whatdayfinish*24*60,10)\n",
    "    levels=[1,   2,  3,  4,  5,  6,  7,  8,  9, 10, \n",
    "          11, 12, 13, 14, 15, 16, 17,\n",
    "          18, 19, 20, 21, 22, 23, 24, 25,\n",
    "          26, 27, 28, 29, 30, 31,\n",
    "          32, 33, 34, 35, 36, 37, 38, 39, 40, 41, 42, 43, 44,\n",
    "          45, 46, 47, 48, 49, 50, 51, 52, 53, 54, 55, 56, 57,              \n",
    "          58, 59, 60, 61, 62, 63, 64, 65, 66, 67, 68, 69, 70, \n",
    "          74, 79, 84, 89, 94, 99,]\n",
    "    \n",
    "    #Define directory, note that pressure and density values are in 01b_SVB_febTS and 01b_noSVB_febTS while\n",
    "    #Dynvars (Eg. velocities) and SSH are in 01_SVB_febTS and 01_noSVB_febTS \n",
    "    \n",
    "    filew='01_SVB_febTS'\n",
    "    filen='01_noSVB_febTS'\n",
    "    \n",
    "    data_dirWITH= '/media/amelia/Trillian/SVB/exp06_512x612x100_ORL_SVB/'+ str(filew)+'/' \n",
    "    data_dirNO= '/media/amelia/Trillian/SVB/exp06_512x612x100_ORL/'+ str(filen)+'/'\n",
    "    \n",
    "    \n",
    "    dsw=open_mdsdataset(data_dirWITH,data_dirWITH,prefix=[prefix],default_dtype='>f4',levels=levels,iters=day)\n",
    "    dsn=open_mdsdataset(data_dirNO,data_dirNO,prefix=[prefix],default_dtype='>f4',levels=levels,iters=day)\n",
    "    \n",
    "    pathw='/media/amelia/Trillian/SVB/exp06_512x612x100_ORL_SVB/'+ str(filew)+'/'+ str(varname)+'withSVB'+ str(whatdaystart)+'_'+ str(whatdayfinish) +'.nc'\n",
    "    pathn='/media/amelia/Trillian/SVB/exp06_512x612x100_ORL/'+ str(filen)+'/'+ str(varname)+'noSVB'+ str(whatdaystart)+'_'+ str(whatdayfinish) +'.nc'\n",
    " \n",
    "    dsw.to_netcdf(path=pathw)\n",
    "    dsn.to_netcdf(path=pathn)"
   ]
  },
  {
   "cell_type": "code",
   "execution_count": 17,
   "metadata": {},
   "outputs": [],
   "source": [
    "createNetCDF('phiHyd',2,3,'PHIHYD')"
   ]
  },
  {
   "cell_type": "code",
   "execution_count": null,
   "metadata": {},
   "outputs": [],
   "source": [
    "createNetCDF('dynVars',2,3,'DYNVARS')"
   ]
  }
 ],
 "metadata": {
  "kernelspec": {
   "display_name": "Python 3 (ipykernel)",
   "language": "python",
   "name": "python3"
  },
  "language_info": {
   "codemirror_mode": {
    "name": "ipython",
    "version": 3
   },
   "file_extension": ".py",
   "mimetype": "text/x-python",
   "name": "python",
   "nbconvert_exporter": "python",
   "pygments_lexer": "ipython3",
   "version": "3.10.6"
  }
 },
 "nbformat": 4,
 "nbformat_minor": 2
}
